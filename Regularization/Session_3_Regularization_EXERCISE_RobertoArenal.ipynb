{
  "nbformat": 4,
  "nbformat_minor": 0,
  "metadata": {
    "colab": {
      "name": "Copia de Session_3_Regularization_and_Poly_regression_EXERCISE.ipynb",
      "provenance": [],
      "collapsed_sections": [],
      "toc_visible": true
    },
    "kernelspec": {
      "name": "python3",
      "display_name": "Python 3"
    }
  },
  "cells": [
    {
      "cell_type": "markdown",
      "metadata": {
        "id": "T_U6YCp9QD33"
      },
      "source": [
        "\n",
        "![BTS](https://github.com/vfp1/bts-dsf-2020/raw/main/Logo-BTS.jpg)\n",
        "\n",
        "# Session 3: Logistic Regression EXERCISE\n",
        "\n",
        "### Victor F. Pajuelo Madrigal <victor.pajuelo@bts.tech> - Classical Data Analysis (2020-12-21)\n",
        "\n",
        "Open this notebook in Google Colaboratory: [![Open in Colab](https://colab.research.google.com/assets/colab-badge.svg)](https://colab.research.google.com/github/vfp1/bts-cda-2020/blob/main/Session_3/Session_3_Regularization_and_Poly_regression_EXERCISE.ipynb)\n",
        "\n",
        "**Resources:**\n",
        "* Auréliene Géron, Hands On ML with SKlearn, Keras and TF"
      ]
    },
    {
      "cell_type": "markdown",
      "metadata": {
        "id": "47cNdF6xP5eF"
      },
      "source": [
        "# Regression with regularization"
      ]
    },
    {
      "cell_type": "markdown",
      "metadata": {
        "id": "I-2OcibZP5eH"
      },
      "source": [
        "#### We will using the Boston Housing Dataset available in sklearn and we will extend it with  5 additional features of random noise to test each algorithm’s ability to filter out irrelevant information:\n",
        "\n",
        "- **Examine the results of applying Linear Regression, Lasso Regression, Ridge Regression and Elastic Net on the features scores**\n",
        "- **Try to modify the hyperparameters lambda and describe how it affects the parmeter scores**\n",
        "\n",
        "This is the very same exercise that we did in class, try to go in depth into the tradeoffs of lambda (alpha) and others"
      ]
    },
    {
      "cell_type": "markdown",
      "metadata": {
        "id": "oGLVXZSyP5eH"
      },
      "source": [
        "### Import libraries and dataset from sklearn"
      ]
    },
    {
      "cell_type": "code",
      "metadata": {
        "id": "YfgiMb3fP5eI",
        "colab": {
          "base_uri": "https://localhost:8080/",
          "height": 191
        },
        "outputId": "6c35a1cd-3d82-4a8b-a5e2-5842b5dee0a8"
      },
      "source": [
        "import matplotlib.pyplot as plt\n",
        "import numpy as np \n",
        "import pandas as pd\n",
        "import matplotlib\n",
        "matplotlib.rcParams.update({'font.size': 12})\n",
        "from sklearn.datasets import load_boston\n",
        "from sklearn.model_selection import train_test_split\n",
        "from sklearn.linear_model import LinearRegression\n",
        "from sklearn.linear_model import Ridge\n",
        "from sklearn import metrics\n",
        "from sklearn.metrics import mean_squared_error\n",
        "import seaborn as sns\n",
        "\n",
        "boston=load_boston()\n",
        "boston_df=pd.DataFrame(boston.data,columns=boston.feature_names)\n",
        "\n",
        "boston_df.head()"
      ],
      "execution_count": 1,
      "outputs": [
        {
          "output_type": "execute_result",
          "data": {
            "text/html": [
              "<div>\n",
              "<style scoped>\n",
              "    .dataframe tbody tr th:only-of-type {\n",
              "        vertical-align: middle;\n",
              "    }\n",
              "\n",
              "    .dataframe tbody tr th {\n",
              "        vertical-align: top;\n",
              "    }\n",
              "\n",
              "    .dataframe thead th {\n",
              "        text-align: right;\n",
              "    }\n",
              "</style>\n",
              "<table border=\"1\" class=\"dataframe\">\n",
              "  <thead>\n",
              "    <tr style=\"text-align: right;\">\n",
              "      <th></th>\n",
              "      <th>CRIM</th>\n",
              "      <th>ZN</th>\n",
              "      <th>INDUS</th>\n",
              "      <th>CHAS</th>\n",
              "      <th>NOX</th>\n",
              "      <th>RM</th>\n",
              "      <th>AGE</th>\n",
              "      <th>DIS</th>\n",
              "      <th>RAD</th>\n",
              "      <th>TAX</th>\n",
              "      <th>PTRATIO</th>\n",
              "      <th>B</th>\n",
              "      <th>LSTAT</th>\n",
              "    </tr>\n",
              "  </thead>\n",
              "  <tbody>\n",
              "    <tr>\n",
              "      <th>0</th>\n",
              "      <td>0.00632</td>\n",
              "      <td>18.0</td>\n",
              "      <td>2.31</td>\n",
              "      <td>0.0</td>\n",
              "      <td>0.538</td>\n",
              "      <td>6.575</td>\n",
              "      <td>65.2</td>\n",
              "      <td>4.0900</td>\n",
              "      <td>1.0</td>\n",
              "      <td>296.0</td>\n",
              "      <td>15.3</td>\n",
              "      <td>396.90</td>\n",
              "      <td>4.98</td>\n",
              "    </tr>\n",
              "    <tr>\n",
              "      <th>1</th>\n",
              "      <td>0.02731</td>\n",
              "      <td>0.0</td>\n",
              "      <td>7.07</td>\n",
              "      <td>0.0</td>\n",
              "      <td>0.469</td>\n",
              "      <td>6.421</td>\n",
              "      <td>78.9</td>\n",
              "      <td>4.9671</td>\n",
              "      <td>2.0</td>\n",
              "      <td>242.0</td>\n",
              "      <td>17.8</td>\n",
              "      <td>396.90</td>\n",
              "      <td>9.14</td>\n",
              "    </tr>\n",
              "    <tr>\n",
              "      <th>2</th>\n",
              "      <td>0.02729</td>\n",
              "      <td>0.0</td>\n",
              "      <td>7.07</td>\n",
              "      <td>0.0</td>\n",
              "      <td>0.469</td>\n",
              "      <td>7.185</td>\n",
              "      <td>61.1</td>\n",
              "      <td>4.9671</td>\n",
              "      <td>2.0</td>\n",
              "      <td>242.0</td>\n",
              "      <td>17.8</td>\n",
              "      <td>392.83</td>\n",
              "      <td>4.03</td>\n",
              "    </tr>\n",
              "    <tr>\n",
              "      <th>3</th>\n",
              "      <td>0.03237</td>\n",
              "      <td>0.0</td>\n",
              "      <td>2.18</td>\n",
              "      <td>0.0</td>\n",
              "      <td>0.458</td>\n",
              "      <td>6.998</td>\n",
              "      <td>45.8</td>\n",
              "      <td>6.0622</td>\n",
              "      <td>3.0</td>\n",
              "      <td>222.0</td>\n",
              "      <td>18.7</td>\n",
              "      <td>394.63</td>\n",
              "      <td>2.94</td>\n",
              "    </tr>\n",
              "    <tr>\n",
              "      <th>4</th>\n",
              "      <td>0.06905</td>\n",
              "      <td>0.0</td>\n",
              "      <td>2.18</td>\n",
              "      <td>0.0</td>\n",
              "      <td>0.458</td>\n",
              "      <td>7.147</td>\n",
              "      <td>54.2</td>\n",
              "      <td>6.0622</td>\n",
              "      <td>3.0</td>\n",
              "      <td>222.0</td>\n",
              "      <td>18.7</td>\n",
              "      <td>396.90</td>\n",
              "      <td>5.33</td>\n",
              "    </tr>\n",
              "  </tbody>\n",
              "</table>\n",
              "</div>"
            ],
            "text/plain": [
              "      CRIM    ZN  INDUS  CHAS    NOX  ...  RAD    TAX  PTRATIO       B  LSTAT\n",
              "0  0.00632  18.0   2.31   0.0  0.538  ...  1.0  296.0     15.3  396.90   4.98\n",
              "1  0.02731   0.0   7.07   0.0  0.469  ...  2.0  242.0     17.8  396.90   9.14\n",
              "2  0.02729   0.0   7.07   0.0  0.469  ...  2.0  242.0     17.8  392.83   4.03\n",
              "3  0.03237   0.0   2.18   0.0  0.458  ...  3.0  222.0     18.7  394.63   2.94\n",
              "4  0.06905   0.0   2.18   0.0  0.458  ...  3.0  222.0     18.7  396.90   5.33\n",
              "\n",
              "[5 rows x 13 columns]"
            ]
          },
          "metadata": {
            "tags": []
          },
          "execution_count": 1
        }
      ]
    },
    {
      "cell_type": "markdown",
      "metadata": {
        "id": "W7fJX1LuP5eK"
      },
      "source": [
        "### Add Noise to original dataset"
      ]
    },
    {
      "cell_type": "code",
      "metadata": {
        "id": "kOCkhsAZP5eK"
      },
      "source": [
        "n_houses = boston_df.shape[0]\n",
        "rand_noise = np.random.rand(n_houses, 5)\n",
        "\n",
        "rand_noise_df = pd.DataFrame(data=rand_noise, columns=['Noise_1', 'Noise_2', 'Noise_3', 'Noise_4', 'Noise_5'])\n",
        "X = pd.concat([boston_df, rand_noise_df], axis=1)\n",
        "y = boston['target']\n"
      ],
      "execution_count": 2,
      "outputs": []
    },
    {
      "cell_type": "code",
      "metadata": {
        "id": "cG1PjrYhP5eK",
        "colab": {
          "base_uri": "https://localhost:8080/",
          "height": 191
        },
        "outputId": "c1caf8be-f797-45ca-a7ee-961ad0a795fb"
      },
      "source": [
        "X.head()"
      ],
      "execution_count": 3,
      "outputs": [
        {
          "output_type": "execute_result",
          "data": {
            "text/html": [
              "<div>\n",
              "<style scoped>\n",
              "    .dataframe tbody tr th:only-of-type {\n",
              "        vertical-align: middle;\n",
              "    }\n",
              "\n",
              "    .dataframe tbody tr th {\n",
              "        vertical-align: top;\n",
              "    }\n",
              "\n",
              "    .dataframe thead th {\n",
              "        text-align: right;\n",
              "    }\n",
              "</style>\n",
              "<table border=\"1\" class=\"dataframe\">\n",
              "  <thead>\n",
              "    <tr style=\"text-align: right;\">\n",
              "      <th></th>\n",
              "      <th>CRIM</th>\n",
              "      <th>ZN</th>\n",
              "      <th>INDUS</th>\n",
              "      <th>CHAS</th>\n",
              "      <th>NOX</th>\n",
              "      <th>RM</th>\n",
              "      <th>AGE</th>\n",
              "      <th>DIS</th>\n",
              "      <th>RAD</th>\n",
              "      <th>TAX</th>\n",
              "      <th>PTRATIO</th>\n",
              "      <th>B</th>\n",
              "      <th>LSTAT</th>\n",
              "      <th>Noise_1</th>\n",
              "      <th>Noise_2</th>\n",
              "      <th>Noise_3</th>\n",
              "      <th>Noise_4</th>\n",
              "      <th>Noise_5</th>\n",
              "    </tr>\n",
              "  </thead>\n",
              "  <tbody>\n",
              "    <tr>\n",
              "      <th>0</th>\n",
              "      <td>0.00632</td>\n",
              "      <td>18.0</td>\n",
              "      <td>2.31</td>\n",
              "      <td>0.0</td>\n",
              "      <td>0.538</td>\n",
              "      <td>6.575</td>\n",
              "      <td>65.2</td>\n",
              "      <td>4.0900</td>\n",
              "      <td>1.0</td>\n",
              "      <td>296.0</td>\n",
              "      <td>15.3</td>\n",
              "      <td>396.90</td>\n",
              "      <td>4.98</td>\n",
              "      <td>0.600999</td>\n",
              "      <td>0.279588</td>\n",
              "      <td>0.013547</td>\n",
              "      <td>0.542783</td>\n",
              "      <td>0.397646</td>\n",
              "    </tr>\n",
              "    <tr>\n",
              "      <th>1</th>\n",
              "      <td>0.02731</td>\n",
              "      <td>0.0</td>\n",
              "      <td>7.07</td>\n",
              "      <td>0.0</td>\n",
              "      <td>0.469</td>\n",
              "      <td>6.421</td>\n",
              "      <td>78.9</td>\n",
              "      <td>4.9671</td>\n",
              "      <td>2.0</td>\n",
              "      <td>242.0</td>\n",
              "      <td>17.8</td>\n",
              "      <td>396.90</td>\n",
              "      <td>9.14</td>\n",
              "      <td>0.831158</td>\n",
              "      <td>0.359945</td>\n",
              "      <td>0.063250</td>\n",
              "      <td>0.396230</td>\n",
              "      <td>0.061832</td>\n",
              "    </tr>\n",
              "    <tr>\n",
              "      <th>2</th>\n",
              "      <td>0.02729</td>\n",
              "      <td>0.0</td>\n",
              "      <td>7.07</td>\n",
              "      <td>0.0</td>\n",
              "      <td>0.469</td>\n",
              "      <td>7.185</td>\n",
              "      <td>61.1</td>\n",
              "      <td>4.9671</td>\n",
              "      <td>2.0</td>\n",
              "      <td>242.0</td>\n",
              "      <td>17.8</td>\n",
              "      <td>392.83</td>\n",
              "      <td>4.03</td>\n",
              "      <td>0.924654</td>\n",
              "      <td>0.499048</td>\n",
              "      <td>0.676691</td>\n",
              "      <td>0.130463</td>\n",
              "      <td>0.269379</td>\n",
              "    </tr>\n",
              "    <tr>\n",
              "      <th>3</th>\n",
              "      <td>0.03237</td>\n",
              "      <td>0.0</td>\n",
              "      <td>2.18</td>\n",
              "      <td>0.0</td>\n",
              "      <td>0.458</td>\n",
              "      <td>6.998</td>\n",
              "      <td>45.8</td>\n",
              "      <td>6.0622</td>\n",
              "      <td>3.0</td>\n",
              "      <td>222.0</td>\n",
              "      <td>18.7</td>\n",
              "      <td>394.63</td>\n",
              "      <td>2.94</td>\n",
              "      <td>0.566079</td>\n",
              "      <td>0.020717</td>\n",
              "      <td>0.944442</td>\n",
              "      <td>0.238579</td>\n",
              "      <td>0.593225</td>\n",
              "    </tr>\n",
              "    <tr>\n",
              "      <th>4</th>\n",
              "      <td>0.06905</td>\n",
              "      <td>0.0</td>\n",
              "      <td>2.18</td>\n",
              "      <td>0.0</td>\n",
              "      <td>0.458</td>\n",
              "      <td>7.147</td>\n",
              "      <td>54.2</td>\n",
              "      <td>6.0622</td>\n",
              "      <td>3.0</td>\n",
              "      <td>222.0</td>\n",
              "      <td>18.7</td>\n",
              "      <td>396.90</td>\n",
              "      <td>5.33</td>\n",
              "      <td>0.070788</td>\n",
              "      <td>0.858171</td>\n",
              "      <td>0.642489</td>\n",
              "      <td>0.216698</td>\n",
              "      <td>0.030229</td>\n",
              "    </tr>\n",
              "  </tbody>\n",
              "</table>\n",
              "</div>"
            ],
            "text/plain": [
              "      CRIM    ZN  INDUS  CHAS  ...   Noise_2   Noise_3   Noise_4   Noise_5\n",
              "0  0.00632  18.0   2.31   0.0  ...  0.279588  0.013547  0.542783  0.397646\n",
              "1  0.02731   0.0   7.07   0.0  ...  0.359945  0.063250  0.396230  0.061832\n",
              "2  0.02729   0.0   7.07   0.0  ...  0.499048  0.676691  0.130463  0.269379\n",
              "3  0.03237   0.0   2.18   0.0  ...  0.020717  0.944442  0.238579  0.593225\n",
              "4  0.06905   0.0   2.18   0.0  ...  0.858171  0.642489  0.216698  0.030229\n",
              "\n",
              "[5 rows x 18 columns]"
            ]
          },
          "metadata": {
            "tags": []
          },
          "execution_count": 3
        }
      ]
    },
    {
      "cell_type": "code",
      "metadata": {
        "id": "wfKjAvf4P5eL",
        "colab": {
          "base_uri": "https://localhost:8080/"
        },
        "outputId": "d3aa02a0-8cf9-4ad2-97f0-75c89efcf04a"
      },
      "source": [
        "y[0:5]"
      ],
      "execution_count": 4,
      "outputs": [
        {
          "output_type": "execute_result",
          "data": {
            "text/plain": [
              "array([24. , 21.6, 34.7, 33.4, 36.2])"
            ]
          },
          "metadata": {
            "tags": []
          },
          "execution_count": 4
        }
      ]
    },
    {
      "cell_type": "markdown",
      "metadata": {
        "id": "hx6KUx1kP5eL"
      },
      "source": [
        "### Implement classical linear regression, Lasso, Ridge and ElasticNet (use the default parameter of sklearn) and describe how the scores of the features change"
      ]
    },
    {
      "cell_type": "code",
      "metadata": {
        "id": "YWVwV1sHP5eM"
      },
      "source": [
        "from sklearn.linear_model import LinearRegression, Lasso, Ridge, ElasticNet\n",
        "\n",
        "# CREATE MODEL INSTANCES\n",
        "# PUT YOUR CODE HERE\n",
        "lin_model = LinearRegression()\n",
        "lasso = Lasso()\n",
        "ridge = Ridge()\n",
        "Enet = ElasticNet()"
      ],
      "execution_count": 5,
      "outputs": []
    },
    {
      "cell_type": "code",
      "metadata": {
        "id": "rh6yFvTraB8o"
      },
      "source": [
        "models = [(lin_model, 'Linear Regression'),\r\n",
        "           (lasso, 'Lasso'),\r\n",
        "           (ridge, \"Ridge Regression\"),\r\n",
        "           (Enet, \"Elastic Net\")]"
      ],
      "execution_count": 6,
      "outputs": []
    },
    {
      "cell_type": "markdown",
      "metadata": {
        "id": "Vp3_wR5CP5eM"
      },
      "source": [
        "##### NORMALIZE DATA USING THE ```StandardScaler``` PROVIDED BY sklearn"
      ]
    },
    {
      "cell_type": "code",
      "metadata": {
        "id": "Ftfk1EaAP5eM"
      },
      "source": [
        "from sklearn.preprocessing import StandardScaler\n",
        "\n",
        "boston_ss = StandardScaler()\n",
        "X_scaled = boston_ss.fit_transform(X=X)\n",
        "\n",
        "X_train, X_test, y_train, y_test = train_test_split(X_scaled, y, test_size=0.25, random_state=235)"
      ],
      "execution_count": 7,
      "outputs": []
    },
    {
      "cell_type": "code",
      "metadata": {
        "colab": {
          "base_uri": "https://localhost:8080/"
        },
        "id": "NO3KiiELaIJ7",
        "outputId": "62f24543-8ec4-4089-d28d-b7327211b647"
      },
      "source": [
        "print(X_train.shape, y_train.shape)"
      ],
      "execution_count": 8,
      "outputs": [
        {
          "output_type": "stream",
          "text": [
            "(379, 18) (379,)\n"
          ],
          "name": "stdout"
        }
      ]
    },
    {
      "cell_type": "code",
      "metadata": {
        "id": "TT98zyGHP5eN",
        "colab": {
          "base_uri": "https://localhost:8080/",
          "height": 1000
        },
        "outputId": "8be6db64-4c7c-44e8-8592-590b9ff91baf"
      },
      "source": [
        "## FITTING OF THE MODELS AND RESULTS\n",
        "\n",
        "# PUT YOUR CODE HERE\n",
        "sns.set_theme(style=\"white\")\n",
        "\n",
        "df = pd.DataFrame()\n",
        "df['Feature Name'] = X.columns\n",
        "for model in models:\n",
        "    plt.figure(figsize=(12,6))\n",
        "    model[0].fit(X_train, y_train)\n",
        "    pd.Series(model[0].coef_,index=X.columns).plot(kind='barh')\n",
        "    plt.title(model[1])\n",
        "    plt.xlabel('Coefficient Value')\n",
        "    plt.ylabel('Feature Name')\n",
        "    plt.show()\n",
        "    # Create a column name for that reflects the name of the model\n",
        "    column_name = model[1]\n",
        "    # Create a column of coefficient values\n",
        "    df[column_name] = model[0].coef_"
      ],
      "execution_count": 9,
      "outputs": [
        {
          "output_type": "display_data",
          "data": {
            "image/png": "[encoded data removed]",
            "text/plain": [
              "<Figure size 864x432 with 1 Axes>"
            ]
          },
          "metadata": {
            "tags": []
          }
        },
        {
          "output_type": "display_data",
          "data": {
            "image/png": "[encoded data removed]",
            "text/plain": [
              "<Figure size 864x432 with 1 Axes>"
            ]
          },
          "metadata": {
            "tags": []
          }
        },
        {
          "output_type": "display_data",
          "data": {
            "image/png": "[encoded data removed]",
            "text/plain": [
              "<Figure size 864x432 with 1 Axes>"
            ]
          },
          "metadata": {
            "tags": []
          }
        },
        {
          "output_type": "display_data",
          "data": {
            "image/png": "[encoded data removed]",
            "text/plain": [
              "<Figure size 864x432 with 1 Axes>"
            ]
          },
          "metadata": {
            "tags": []
          }
        }
      ]
    },
    {
      "cell_type": "code",
      "metadata": {
        "colab": {
          "base_uri": "https://localhost:8080/",
          "height": 565
        },
        "id": "13ChUQTzbXS4",
        "outputId": "05ceb4f0-4db7-4ea8-90b2-06cadff4ad24"
      },
      "source": [
        "df"
      ],
      "execution_count": 10,
      "outputs": [
        {
          "output_type": "execute_result",
          "data": {
            "text/html": [
              "<div>\n",
              "<style scoped>\n",
              "    .dataframe tbody tr th:only-of-type {\n",
              "        vertical-align: middle;\n",
              "    }\n",
              "\n",
              "    .dataframe tbody tr th {\n",
              "        vertical-align: top;\n",
              "    }\n",
              "\n",
              "    .dataframe thead th {\n",
              "        text-align: right;\n",
              "    }\n",
              "</style>\n",
              "<table border=\"1\" class=\"dataframe\">\n",
              "  <thead>\n",
              "    <tr style=\"text-align: right;\">\n",
              "      <th></th>\n",
              "      <th>Feature Name</th>\n",
              "      <th>Linear Regression</th>\n",
              "      <th>Lasso</th>\n",
              "      <th>Ridge Regression</th>\n",
              "      <th>Elastic Net</th>\n",
              "    </tr>\n",
              "  </thead>\n",
              "  <tbody>\n",
              "    <tr>\n",
              "      <th>0</th>\n",
              "      <td>CRIM</td>\n",
              "      <td>-0.135363</td>\n",
              "      <td>-0.000000</td>\n",
              "      <td>-0.128548</td>\n",
              "      <td>-0.000000</td>\n",
              "    </tr>\n",
              "    <tr>\n",
              "      <th>1</th>\n",
              "      <td>ZN</td>\n",
              "      <td>0.785389</td>\n",
              "      <td>0.000000</td>\n",
              "      <td>0.769194</td>\n",
              "      <td>0.000000</td>\n",
              "    </tr>\n",
              "    <tr>\n",
              "      <th>2</th>\n",
              "      <td>INDUS</td>\n",
              "      <td>0.271153</td>\n",
              "      <td>-0.000000</td>\n",
              "      <td>0.245523</td>\n",
              "      <td>-0.112192</td>\n",
              "    </tr>\n",
              "    <tr>\n",
              "      <th>3</th>\n",
              "      <td>CHAS</td>\n",
              "      <td>1.030869</td>\n",
              "      <td>0.340719</td>\n",
              "      <td>1.034304</td>\n",
              "      <td>0.635905</td>\n",
              "    </tr>\n",
              "    <tr>\n",
              "      <th>4</th>\n",
              "      <td>NOX</td>\n",
              "      <td>-2.037506</td>\n",
              "      <td>-0.000000</td>\n",
              "      <td>-1.998879</td>\n",
              "      <td>-0.202282</td>\n",
              "    </tr>\n",
              "    <tr>\n",
              "      <th>5</th>\n",
              "      <td>RM</td>\n",
              "      <td>2.994276</td>\n",
              "      <td>3.075163</td>\n",
              "      <td>3.005944</td>\n",
              "      <td>2.618869</td>\n",
              "    </tr>\n",
              "    <tr>\n",
              "      <th>6</th>\n",
              "      <td>AGE</td>\n",
              "      <td>0.277562</td>\n",
              "      <td>-0.000000</td>\n",
              "      <td>0.263507</td>\n",
              "      <td>-0.000000</td>\n",
              "    </tr>\n",
              "    <tr>\n",
              "      <th>7</th>\n",
              "      <td>DIS</td>\n",
              "      <td>-2.767233</td>\n",
              "      <td>-0.000000</td>\n",
              "      <td>-2.737530</td>\n",
              "      <td>-0.014043</td>\n",
              "    </tr>\n",
              "    <tr>\n",
              "      <th>8</th>\n",
              "      <td>RAD</td>\n",
              "      <td>2.266540</td>\n",
              "      <td>-0.000000</td>\n",
              "      <td>2.188060</td>\n",
              "      <td>-0.000000</td>\n",
              "    </tr>\n",
              "    <tr>\n",
              "      <th>9</th>\n",
              "      <td>TAX</td>\n",
              "      <td>-1.657797</td>\n",
              "      <td>-0.000000</td>\n",
              "      <td>-1.588124</td>\n",
              "      <td>-0.224970</td>\n",
              "    </tr>\n",
              "    <tr>\n",
              "      <th>10</th>\n",
              "      <td>PTRATIO</td>\n",
              "      <td>-2.242249</td>\n",
              "      <td>-1.231897</td>\n",
              "      <td>-2.230292</td>\n",
              "      <td>-1.333656</td>\n",
              "    </tr>\n",
              "    <tr>\n",
              "      <th>11</th>\n",
              "      <td>B</td>\n",
              "      <td>1.052065</td>\n",
              "      <td>0.172007</td>\n",
              "      <td>1.052761</td>\n",
              "      <td>0.590854</td>\n",
              "    </tr>\n",
              "    <tr>\n",
              "      <th>12</th>\n",
              "      <td>LSTAT</td>\n",
              "      <td>-3.998936</td>\n",
              "      <td>-3.480674</td>\n",
              "      <td>-3.979292</td>\n",
              "      <td>-2.496310</td>\n",
              "    </tr>\n",
              "    <tr>\n",
              "      <th>13</th>\n",
              "      <td>Noise_1</td>\n",
              "      <td>0.257153</td>\n",
              "      <td>0.000000</td>\n",
              "      <td>0.256835</td>\n",
              "      <td>0.000000</td>\n",
              "    </tr>\n",
              "    <tr>\n",
              "      <th>14</th>\n",
              "      <td>Noise_2</td>\n",
              "      <td>0.232014</td>\n",
              "      <td>0.000000</td>\n",
              "      <td>0.230982</td>\n",
              "      <td>0.000000</td>\n",
              "    </tr>\n",
              "    <tr>\n",
              "      <th>15</th>\n",
              "      <td>Noise_3</td>\n",
              "      <td>0.101610</td>\n",
              "      <td>0.000000</td>\n",
              "      <td>0.100786</td>\n",
              "      <td>-0.000000</td>\n",
              "    </tr>\n",
              "    <tr>\n",
              "      <th>16</th>\n",
              "      <td>Noise_4</td>\n",
              "      <td>-0.060717</td>\n",
              "      <td>-0.000000</td>\n",
              "      <td>-0.063581</td>\n",
              "      <td>-0.000000</td>\n",
              "    </tr>\n",
              "    <tr>\n",
              "      <th>17</th>\n",
              "      <td>Noise_5</td>\n",
              "      <td>0.043808</td>\n",
              "      <td>-0.000000</td>\n",
              "      <td>0.043253</td>\n",
              "      <td>0.000000</td>\n",
              "    </tr>\n",
              "  </tbody>\n",
              "</table>\n",
              "</div>"
            ],
            "text/plain": [
              "   Feature Name  Linear Regression     Lasso  Ridge Regression  Elastic Net\n",
              "0          CRIM          -0.135363 -0.000000         -0.128548    -0.000000\n",
              "1            ZN           0.785389  0.000000          0.769194     0.000000\n",
              "2         INDUS           0.271153 -0.000000          0.245523    -0.112192\n",
              "3          CHAS           1.030869  0.340719          1.034304     0.635905\n",
              "4           NOX          -2.037506 -0.000000         -1.998879    -0.202282\n",
              "5            RM           2.994276  3.075163          3.005944     2.618869\n",
              "6           AGE           0.277562 -0.000000          0.263507    -0.000000\n",
              "7           DIS          -2.767233 -0.000000         -2.737530    -0.014043\n",
              "8           RAD           2.266540 -0.000000          2.188060    -0.000000\n",
              "9           TAX          -1.657797 -0.000000         -1.588124    -0.224970\n",
              "10      PTRATIO          -2.242249 -1.231897         -2.230292    -1.333656\n",
              "11            B           1.052065  0.172007          1.052761     0.590854\n",
              "12        LSTAT          -3.998936 -3.480674         -3.979292    -2.496310\n",
              "13      Noise_1           0.257153  0.000000          0.256835     0.000000\n",
              "14      Noise_2           0.232014  0.000000          0.230982     0.000000\n",
              "15      Noise_3           0.101610  0.000000          0.100786    -0.000000\n",
              "16      Noise_4          -0.060717 -0.000000         -0.063581    -0.000000\n",
              "17      Noise_5           0.043808 -0.000000          0.043253     0.000000"
            ]
          },
          "metadata": {
            "tags": []
          },
          "execution_count": 10
        }
      ]
    },
    {
      "cell_type": "markdown",
      "metadata": {
        "id": "vCaYnamIP5eN"
      },
      "source": [
        "#### Decribe the results"
      ]
    },
    {
      "cell_type": "markdown",
      "metadata": {
        "id": "BJRGjHfBP5eN"
      },
      "source": [
        "- We can see that linear regression assigned non-zero values to all 5 of our noise features, despite none of them having any predictive power. Interestingly, these noise features have coefficients with magnitudes similar to some of the real features in the dataset.\n",
        "- As we hoped, Lasso did a good job of reducing all 5 of our noise features to 0, as well as many of the real features from the dataset. This is indeed a much simpler model than given by linear regression\n",
        "- Ridge Regression makes a similar mistake that unregularized linear regression, assigning coefficient values to our noise features. We also see some features have very small coefficients.\n",
        "- Much like Lasso, Elastic Net makes the coefficients of several features 0. It however does not make as many coefficients 0 as Lasso does."
      ]
    },
    {
      "cell_type": "markdown",
      "metadata": {
        "id": "68pMwN4BP5eO"
      },
      "source": [
        "### Compute the Model Scores"
      ]
    },
    {
      "cell_type": "code",
      "metadata": {
        "colab": {
          "base_uri": "https://localhost:8080/"
        },
        "id": "d7Qso4bycCgm",
        "outputId": "2b4e7d22-499e-45c7-cb72-d91a1319eb40"
      },
      "source": [
        "# PUT YOUR CODE HERE\r\n",
        "for model in models:\r\n",
        "    mse = mean_squared_error(y_test, model[0].predict(X_test))\r\n",
        "    print(f\"Mean Squared Error of {model[1]}: {mse:.3f}\")"
      ],
      "execution_count": 11,
      "outputs": [
        {
          "output_type": "stream",
          "text": [
            "Mean Squared Error of Linear Regression: 23.396\n",
            "Mean Squared Error of Lasso: 24.910\n",
            "Mean Squared Error of Ridge Regression: 23.397\n",
            "Mean Squared Error of Elastic Net: 24.626\n"
          ],
          "name": "stdout"
        }
      ]
    },
    {
      "cell_type": "markdown",
      "metadata": {
        "id": "komlDuMgP5eO"
      },
      "source": [
        "This might seem counter-intuitive, but it is important to remember the ridge regression model traded some variance for bias, which ultimately lead to an overall smaller error. The Lasso and Elastic Net models traded a significant amount of variance for bias, and we see that our error has increased.\n",
        "Interestingly, Lasso and Elastic Net had a higher MSE than Linear Regression. But does that mean that these models are unequivocally worse? I would argue not, as the Lasso and Elastic Net models also performed feature selection, which gives us better interpretability of the models. Coefficients are interpreted as the change in dependent variable with a one unit increase in predictor value, with all other predictors held constant. In the case of complex models, the assumption of holding all other predictors constant cannot reasonably be met."
      ]
    },
    {
      "cell_type": "markdown",
      "metadata": {
        "id": "uGEyFZxRP5eP"
      },
      "source": [
        "### Alpha parameter:  Apply Lasso with different values of alpha and describe how the parameters scores change\n",
        "\n",
        "\n",
        "- Complete the function and apply it to the following values: [0, .0001, .5, 10]\n",
        "- Describe the results"
      ]
    },
    {
      "cell_type": "code",
      "metadata": {
        "id": "3d3m1027P5eP"
      },
      "source": [
        "names = names = X.columns\n",
        "\n",
        "# Create a function called lasso,\n",
        "def lasso(alphas):\n",
        "    '''\n",
        "    Takes in a list of alphas. Outputs a dataframe containing the coefficients of lasso regressions from each alpha.\n",
        "    '''\n",
        "    # Create an empty data frame\n",
        "    df = pd.DataFrame()\n",
        "    # Create a column of feature names\n",
        "    df['Feature Name'] = names\n",
        "    # For each alpha value in the list of alpha values,\n",
        "    for alpha in alphas:\n",
        "        # Create a lasso regression with that alpha value,\n",
        "        lasso = Lasso(alpha=alpha)\n",
        "        # Fit the lasso regression\n",
        "        lasso.fit(X_scaled, y)\n",
        "        # Create a column name for that alpha value\n",
        "        column_name = 'Alpha = %f' % alpha\n",
        "        # Create a column of coefficient values\n",
        "        df[column_name] = lasso.coef_\n",
        "        \n",
        "    # Return the dataframe  \n",
        "    return df"
      ],
      "execution_count": 12,
      "outputs": []
    },
    {
      "cell_type": "code",
      "metadata": {
        "id": "BJPHSvw9P5eQ",
        "colab": {
          "base_uri": "https://localhost:8080/",
          "height": 646
        },
        "outputId": "1d8db3d7-8f66-4803-9462-489980339ecc"
      },
      "source": [
        "lasso([0, .0001, .5, 10])"
      ],
      "execution_count": 13,
      "outputs": [
        {
          "output_type": "stream",
          "text": [
            "/usr/local/lib/python3.6/dist-packages/ipykernel_launcher.py:17: UserWarning: With alpha=0, this algorithm does not converge well. You are advised to use the LinearRegression estimator\n",
            "/usr/local/lib/python3.6/dist-packages/sklearn/linear_model/_coordinate_descent.py:476: UserWarning: Coordinate descent with no regularization may lead to unexpected results and is discouraged.\n",
            "  positive)\n",
            "/usr/local/lib/python3.6/dist-packages/sklearn/linear_model/_coordinate_descent.py:476: ConvergenceWarning: Objective did not converge. You might want to increase the number of iterations. Duality gap: 5494.255124819634, tolerance: 4.2716295415019765\n",
            "  positive)\n"
          ],
          "name": "stderr"
        },
        {
          "output_type": "execute_result",
          "data": {
            "text/html": [
              "<div>\n",
              "<style scoped>\n",
              "    .dataframe tbody tr th:only-of-type {\n",
              "        vertical-align: middle;\n",
              "    }\n",
              "\n",
              "    .dataframe tbody tr th {\n",
              "        vertical-align: top;\n",
              "    }\n",
              "\n",
              "    .dataframe thead th {\n",
              "        text-align: right;\n",
              "    }\n",
              "</style>\n",
              "<table border=\"1\" class=\"dataframe\">\n",
              "  <thead>\n",
              "    <tr style=\"text-align: right;\">\n",
              "      <th></th>\n",
              "      <th>Feature Name</th>\n",
              "      <th>Alpha = 0.000000</th>\n",
              "      <th>Alpha = 0.000100</th>\n",
              "      <th>Alpha = 0.500000</th>\n",
              "      <th>Alpha = 10.000000</th>\n",
              "    </tr>\n",
              "  </thead>\n",
              "  <tbody>\n",
              "    <tr>\n",
              "      <th>0</th>\n",
              "      <td>CRIM</td>\n",
              "      <td>-0.898257</td>\n",
              "      <td>-0.897981</td>\n",
              "      <td>-0.115265</td>\n",
              "      <td>-0.0</td>\n",
              "    </tr>\n",
              "    <tr>\n",
              "      <th>1</th>\n",
              "      <td>ZN</td>\n",
              "      <td>1.091980</td>\n",
              "      <td>1.091491</td>\n",
              "      <td>0.000000</td>\n",
              "      <td>0.0</td>\n",
              "    </tr>\n",
              "    <tr>\n",
              "      <th>2</th>\n",
              "      <td>INDUS</td>\n",
              "      <td>0.122668</td>\n",
              "      <td>0.121718</td>\n",
              "      <td>-0.000000</td>\n",
              "      <td>-0.0</td>\n",
              "    </tr>\n",
              "    <tr>\n",
              "      <th>3</th>\n",
              "      <td>CHAS</td>\n",
              "      <td>0.685619</td>\n",
              "      <td>0.685651</td>\n",
              "      <td>0.397079</td>\n",
              "      <td>0.0</td>\n",
              "    </tr>\n",
              "    <tr>\n",
              "      <th>4</th>\n",
              "      <td>NOX</td>\n",
              "      <td>-2.055114</td>\n",
              "      <td>-2.054270</td>\n",
              "      <td>-0.000000</td>\n",
              "      <td>-0.0</td>\n",
              "    </tr>\n",
              "    <tr>\n",
              "      <th>5</th>\n",
              "      <td>RM</td>\n",
              "      <td>2.644826</td>\n",
              "      <td>2.645008</td>\n",
              "      <td>2.974259</td>\n",
              "      <td>0.0</td>\n",
              "    </tr>\n",
              "    <tr>\n",
              "      <th>6</th>\n",
              "      <td>AGE</td>\n",
              "      <td>0.051205</td>\n",
              "      <td>0.050734</td>\n",
              "      <td>-0.000000</td>\n",
              "      <td>-0.0</td>\n",
              "    </tr>\n",
              "    <tr>\n",
              "      <th>7</th>\n",
              "      <td>DIS</td>\n",
              "      <td>-3.098126</td>\n",
              "      <td>-3.097765</td>\n",
              "      <td>-0.170569</td>\n",
              "      <td>0.0</td>\n",
              "    </tr>\n",
              "    <tr>\n",
              "      <th>8</th>\n",
              "      <td>RAD</td>\n",
              "      <td>2.619749</td>\n",
              "      <td>2.617925</td>\n",
              "      <td>-0.000000</td>\n",
              "      <td>-0.0</td>\n",
              "    </tr>\n",
              "    <tr>\n",
              "      <th>9</th>\n",
              "      <td>TAX</td>\n",
              "      <td>-2.062245</td>\n",
              "      <td>-2.060455</td>\n",
              "      <td>-0.000000</td>\n",
              "      <td>-0.0</td>\n",
              "    </tr>\n",
              "    <tr>\n",
              "      <th>10</th>\n",
              "      <td>PTRATIO</td>\n",
              "      <td>-2.081917</td>\n",
              "      <td>-2.081658</td>\n",
              "      <td>-1.598449</td>\n",
              "      <td>-0.0</td>\n",
              "    </tr>\n",
              "    <tr>\n",
              "      <th>11</th>\n",
              "      <td>B</td>\n",
              "      <td>0.838957</td>\n",
              "      <td>0.838880</td>\n",
              "      <td>0.543139</td>\n",
              "      <td>0.0</td>\n",
              "    </tr>\n",
              "    <tr>\n",
              "      <th>12</th>\n",
              "      <td>LSTAT</td>\n",
              "      <td>-3.721596</td>\n",
              "      <td>-3.721386</td>\n",
              "      <td>-3.666144</td>\n",
              "      <td>-0.0</td>\n",
              "    </tr>\n",
              "    <tr>\n",
              "      <th>13</th>\n",
              "      <td>Noise_1</td>\n",
              "      <td>0.177804</td>\n",
              "      <td>0.177670</td>\n",
              "      <td>0.000000</td>\n",
              "      <td>0.0</td>\n",
              "    </tr>\n",
              "    <tr>\n",
              "      <th>14</th>\n",
              "      <td>Noise_2</td>\n",
              "      <td>0.263374</td>\n",
              "      <td>0.263309</td>\n",
              "      <td>0.000000</td>\n",
              "      <td>0.0</td>\n",
              "    </tr>\n",
              "    <tr>\n",
              "      <th>15</th>\n",
              "      <td>Noise_3</td>\n",
              "      <td>0.044678</td>\n",
              "      <td>0.044565</td>\n",
              "      <td>0.000000</td>\n",
              "      <td>-0.0</td>\n",
              "    </tr>\n",
              "    <tr>\n",
              "      <th>16</th>\n",
              "      <td>Noise_4</td>\n",
              "      <td>-0.163539</td>\n",
              "      <td>-0.163510</td>\n",
              "      <td>-0.000000</td>\n",
              "      <td>-0.0</td>\n",
              "    </tr>\n",
              "    <tr>\n",
              "      <th>17</th>\n",
              "      <td>Noise_5</td>\n",
              "      <td>0.227584</td>\n",
              "      <td>0.227455</td>\n",
              "      <td>0.000000</td>\n",
              "      <td>0.0</td>\n",
              "    </tr>\n",
              "  </tbody>\n",
              "</table>\n",
              "</div>"
            ],
            "text/plain": [
              "   Feature Name  Alpha = 0.000000  ...  Alpha = 0.500000  Alpha = 10.000000\n",
              "0          CRIM         -0.898257  ...         -0.115265               -0.0\n",
              "1            ZN          1.091980  ...          0.000000                0.0\n",
              "2         INDUS          0.122668  ...         -0.000000               -0.0\n",
              "3          CHAS          0.685619  ...          0.397079                0.0\n",
              "4           NOX         -2.055114  ...         -0.000000               -0.0\n",
              "5            RM          2.644826  ...          2.974259                0.0\n",
              "6           AGE          0.051205  ...         -0.000000               -0.0\n",
              "7           DIS         -3.098126  ...         -0.170569                0.0\n",
              "8           RAD          2.619749  ...         -0.000000               -0.0\n",
              "9           TAX         -2.062245  ...         -0.000000               -0.0\n",
              "10      PTRATIO         -2.081917  ...         -1.598449               -0.0\n",
              "11            B          0.838957  ...          0.543139                0.0\n",
              "12        LSTAT         -3.721596  ...         -3.666144               -0.0\n",
              "13      Noise_1          0.177804  ...          0.000000                0.0\n",
              "14      Noise_2          0.263374  ...          0.000000                0.0\n",
              "15      Noise_3          0.044678  ...          0.000000               -0.0\n",
              "16      Noise_4         -0.163539  ...         -0.000000               -0.0\n",
              "17      Noise_5          0.227584  ...          0.000000                0.0\n",
              "\n",
              "[18 rows x 5 columns]"
            ]
          },
          "metadata": {
            "tags": []
          },
          "execution_count": 13
        }
      ]
    },
    {
      "cell_type": "markdown",
      "metadata": {
        "id": "f9mjD2LBP5eQ"
      },
      "source": [
        "#### Describe the above results"
      ]
    },
    {
      "cell_type": "code",
      "metadata": {
        "id": "DEEFJ9gAP5eQ"
      },
      "source": [
        "#With lasso, we can make feature selection. With alpha=.5 the noise and other not so important features has coefficient 0. Meaning that we can discard them. \r\n",
        "#With high alpha, coefficients tend to 0, meaning that the model will underfit. \r\n"
      ],
      "execution_count": null,
      "outputs": []
    },
    {
      "cell_type": "markdown",
      "metadata": {
        "id": "D3dtgTMjP5eR"
      },
      "source": [
        "### Apply Ridge with different values of alpha and describe how the parameters scores change\n",
        "- Complete the function and apply it to the following values: [0, .0001, .5, 10]\n",
        "- Describe the results"
      ]
    },
    {
      "cell_type": "code",
      "metadata": {
        "id": "BycXXJZoP5eR"
      },
      "source": [
        "names = names = X.columns\n",
        "\n",
        "# Create a function called lasso,\n",
        "def ridge(alphas):\n",
        "    '''\n",
        "    Takes in a list of alphas. Outputs a dataframe containing the coefficients of ridge regressions from each alpha.\n",
        "    '''\n",
        "    # Create an empty data frame\n",
        "    df = pd.DataFrame()\n",
        "    \n",
        "    # Create a column of feature names\n",
        "    df['Feature Name'] = names\n",
        "    \n",
        "    # For each alpha value in the list of alpha values,\n",
        "    for alpha in alphas:\n",
        "        # Create a Ridge regression with that alpha value,\n",
        "        \n",
        "        #********************************************************\n",
        "        ridge = Ridge(alpha=alpha)\n",
        "        #********************************************************\n",
        "        \n",
        "        # Fit the lasso regression\n",
        "        ridge.fit(X_scaled, y)\n",
        "        \n",
        "        # Create a column name for that alpha value\n",
        "        column_name = 'Alpha = %f' % alpha\n",
        "\n",
        "        # Create a column of coefficient values\n",
        "        df[column_name] = ridge.coef_\n",
        "        \n",
        "    # Return the dataframe  \n",
        "    return df"
      ],
      "execution_count": 14,
      "outputs": []
    },
    {
      "cell_type": "code",
      "metadata": {
        "id": "3XXSdX92P5eR",
        "colab": {
          "base_uri": "https://localhost:8080/",
          "height": 565
        },
        "outputId": "d191f82b-e15a-459a-c900-72fbb2d057b6"
      },
      "source": [
        "ridge([0, .00001, .5, 10])"
      ],
      "execution_count": 15,
      "outputs": [
        {
          "output_type": "execute_result",
          "data": {
            "text/html": [
              "<div>\n",
              "<style scoped>\n",
              "    .dataframe tbody tr th:only-of-type {\n",
              "        vertical-align: middle;\n",
              "    }\n",
              "\n",
              "    .dataframe tbody tr th {\n",
              "        vertical-align: top;\n",
              "    }\n",
              "\n",
              "    .dataframe thead th {\n",
              "        text-align: right;\n",
              "    }\n",
              "</style>\n",
              "<table border=\"1\" class=\"dataframe\">\n",
              "  <thead>\n",
              "    <tr style=\"text-align: right;\">\n",
              "      <th></th>\n",
              "      <th>Feature Name</th>\n",
              "      <th>Alpha = 0.000000</th>\n",
              "      <th>Alpha = 0.000010</th>\n",
              "      <th>Alpha = 0.500000</th>\n",
              "      <th>Alpha = 10.000000</th>\n",
              "    </tr>\n",
              "  </thead>\n",
              "  <tbody>\n",
              "    <tr>\n",
              "      <th>0</th>\n",
              "      <td>CRIM</td>\n",
              "      <td>-0.898257</td>\n",
              "      <td>-0.898257</td>\n",
              "      <td>-0.894090</td>\n",
              "      <td>-0.829560</td>\n",
              "    </tr>\n",
              "    <tr>\n",
              "      <th>1</th>\n",
              "      <td>ZN</td>\n",
              "      <td>1.091980</td>\n",
              "      <td>1.091980</td>\n",
              "      <td>1.084301</td>\n",
              "      <td>0.964645</td>\n",
              "    </tr>\n",
              "    <tr>\n",
              "      <th>2</th>\n",
              "      <td>INDUS</td>\n",
              "      <td>0.122668</td>\n",
              "      <td>0.122668</td>\n",
              "      <td>0.110738</td>\n",
              "      <td>-0.058926</td>\n",
              "    </tr>\n",
              "    <tr>\n",
              "      <th>3</th>\n",
              "      <td>CHAS</td>\n",
              "      <td>0.685619</td>\n",
              "      <td>0.685619</td>\n",
              "      <td>0.687326</td>\n",
              "      <td>0.711321</td>\n",
              "    </tr>\n",
              "    <tr>\n",
              "      <th>4</th>\n",
              "      <td>NOX</td>\n",
              "      <td>-2.055114</td>\n",
              "      <td>-2.055114</td>\n",
              "      <td>-2.041051</td>\n",
              "      <td>-1.809264</td>\n",
              "    </tr>\n",
              "    <tr>\n",
              "      <th>5</th>\n",
              "      <td>RM</td>\n",
              "      <td>2.644826</td>\n",
              "      <td>2.644826</td>\n",
              "      <td>2.649080</td>\n",
              "      <td>2.712208</td>\n",
              "    </tr>\n",
              "    <tr>\n",
              "      <th>6</th>\n",
              "      <td>AGE</td>\n",
              "      <td>0.051205</td>\n",
              "      <td>0.051205</td>\n",
              "      <td>0.047795</td>\n",
              "      <td>-0.004408</td>\n",
              "    </tr>\n",
              "    <tr>\n",
              "      <th>7</th>\n",
              "      <td>DIS</td>\n",
              "      <td>-3.098126</td>\n",
              "      <td>-3.098126</td>\n",
              "      <td>-3.084769</td>\n",
              "      <td>-2.851486</td>\n",
              "    </tr>\n",
              "    <tr>\n",
              "      <th>8</th>\n",
              "      <td>RAD</td>\n",
              "      <td>2.619749</td>\n",
              "      <td>2.619748</td>\n",
              "      <td>2.584271</td>\n",
              "      <td>2.061800</td>\n",
              "    </tr>\n",
              "    <tr>\n",
              "      <th>9</th>\n",
              "      <td>TAX</td>\n",
              "      <td>-2.062245</td>\n",
              "      <td>-2.062245</td>\n",
              "      <td>-2.028897</td>\n",
              "      <td>-1.556393</td>\n",
              "    </tr>\n",
              "    <tr>\n",
              "      <th>10</th>\n",
              "      <td>PTRATIO</td>\n",
              "      <td>-2.081917</td>\n",
              "      <td>-2.081917</td>\n",
              "      <td>-2.077796</td>\n",
              "      <td>-2.009044</td>\n",
              "    </tr>\n",
              "    <tr>\n",
              "      <th>11</th>\n",
              "      <td>B</td>\n",
              "      <td>0.838957</td>\n",
              "      <td>0.838957</td>\n",
              "      <td>0.838822</td>\n",
              "      <td>0.835648</td>\n",
              "    </tr>\n",
              "    <tr>\n",
              "      <th>12</th>\n",
              "      <td>LSTAT</td>\n",
              "      <td>-3.721596</td>\n",
              "      <td>-3.721596</td>\n",
              "      <td>-3.715030</td>\n",
              "      <td>-3.600922</td>\n",
              "    </tr>\n",
              "    <tr>\n",
              "      <th>13</th>\n",
              "      <td>Noise_1</td>\n",
              "      <td>0.177804</td>\n",
              "      <td>0.177804</td>\n",
              "      <td>0.177534</td>\n",
              "      <td>0.174800</td>\n",
              "    </tr>\n",
              "    <tr>\n",
              "      <th>14</th>\n",
              "      <td>Noise_2</td>\n",
              "      <td>0.263374</td>\n",
              "      <td>0.263374</td>\n",
              "      <td>0.263679</td>\n",
              "      <td>0.268586</td>\n",
              "    </tr>\n",
              "    <tr>\n",
              "      <th>15</th>\n",
              "      <td>Noise_3</td>\n",
              "      <td>0.044678</td>\n",
              "      <td>0.044678</td>\n",
              "      <td>0.044571</td>\n",
              "      <td>0.042150</td>\n",
              "    </tr>\n",
              "    <tr>\n",
              "      <th>16</th>\n",
              "      <td>Noise_4</td>\n",
              "      <td>-0.163539</td>\n",
              "      <td>-0.163539</td>\n",
              "      <td>-0.164303</td>\n",
              "      <td>-0.175581</td>\n",
              "    </tr>\n",
              "    <tr>\n",
              "      <th>17</th>\n",
              "      <td>Noise_5</td>\n",
              "      <td>0.227584</td>\n",
              "      <td>0.227584</td>\n",
              "      <td>0.227309</td>\n",
              "      <td>0.220958</td>\n",
              "    </tr>\n",
              "  </tbody>\n",
              "</table>\n",
              "</div>"
            ],
            "text/plain": [
              "   Feature Name  Alpha = 0.000000  ...  Alpha = 0.500000  Alpha = 10.000000\n",
              "0          CRIM         -0.898257  ...         -0.894090          -0.829560\n",
              "1            ZN          1.091980  ...          1.084301           0.964645\n",
              "2         INDUS          0.122668  ...          0.110738          -0.058926\n",
              "3          CHAS          0.685619  ...          0.687326           0.711321\n",
              "4           NOX         -2.055114  ...         -2.041051          -1.809264\n",
              "5            RM          2.644826  ...          2.649080           2.712208\n",
              "6           AGE          0.051205  ...          0.047795          -0.004408\n",
              "7           DIS         -3.098126  ...         -3.084769          -2.851486\n",
              "8           RAD          2.619749  ...          2.584271           2.061800\n",
              "9           TAX         -2.062245  ...         -2.028897          -1.556393\n",
              "10      PTRATIO         -2.081917  ...         -2.077796          -2.009044\n",
              "11            B          0.838957  ...          0.838822           0.835648\n",
              "12        LSTAT         -3.721596  ...         -3.715030          -3.600922\n",
              "13      Noise_1          0.177804  ...          0.177534           0.174800\n",
              "14      Noise_2          0.263374  ...          0.263679           0.268586\n",
              "15      Noise_3          0.044678  ...          0.044571           0.042150\n",
              "16      Noise_4         -0.163539  ...         -0.164303          -0.175581\n",
              "17      Noise_5          0.227584  ...          0.227309           0.220958\n",
              "\n",
              "[18 rows x 5 columns]"
            ]
          },
          "metadata": {
            "tags": []
          },
          "execution_count": 15
        }
      ]
    },
    {
      "cell_type": "markdown",
      "metadata": {
        "id": "htviX3D9P5eS"
      },
      "source": [
        "In practice, we will not manually look for the best alpha coefficient. Both in Lasso and ridge regression, the alpha is a hyperparameter. Therefore, we will find the best one via crossvalidation. Fortunately, sklearn has a function that performs CV to find the optimal alpha automatically. "
      ]
    },
    {
      "cell_type": "code",
      "metadata": {
        "id": "uRFc3rLAP5eT",
        "colab": {
          "base_uri": "https://localhost:8080/"
        },
        "outputId": "70f33575-c85f-49af-819d-99cd97bb2b5f"
      },
      "source": [
        "from sklearn.linear_model import LassoCV\n",
        "\n",
        "reg = LassoCV(max_iter = 5000, cv = 20, normalize=True).fit(X_train, y_train)\n",
        "reg.alpha_"
      ],
      "execution_count": 16,
      "outputs": [
        {
          "output_type": "execute_result",
          "data": {
            "text/plain": [
              "0.0038292618915937125"
            ]
          },
          "metadata": {
            "tags": []
          },
          "execution_count": 16
        }
      ]
    },
    {
      "cell_type": "code",
      "metadata": {
        "colab": {
          "base_uri": "https://localhost:8080/",
          "height": 646
        },
        "id": "31EKiU9adibk",
        "outputId": "804dd312-8f55-45c1-9be2-0eb6e218a409"
      },
      "source": [
        "lasso([0, .0001, .0038, .5, 10])"
      ],
      "execution_count": 21,
      "outputs": [
        {
          "output_type": "stream",
          "text": [
            "/usr/local/lib/python3.6/dist-packages/ipykernel_launcher.py:17: UserWarning: With alpha=0, this algorithm does not converge well. You are advised to use the LinearRegression estimator\n",
            "/usr/local/lib/python3.6/dist-packages/sklearn/linear_model/_coordinate_descent.py:476: UserWarning: Coordinate descent with no regularization may lead to unexpected results and is discouraged.\n",
            "  positive)\n",
            "/usr/local/lib/python3.6/dist-packages/sklearn/linear_model/_coordinate_descent.py:476: ConvergenceWarning: Objective did not converge. You might want to increase the number of iterations. Duality gap: 5494.255124819634, tolerance: 4.2716295415019765\n",
            "  positive)\n"
          ],
          "name": "stderr"
        },
        {
          "output_type": "execute_result",
          "data": {
            "text/html": [
              "<div>\n",
              "<style scoped>\n",
              "    .dataframe tbody tr th:only-of-type {\n",
              "        vertical-align: middle;\n",
              "    }\n",
              "\n",
              "    .dataframe tbody tr th {\n",
              "        vertical-align: top;\n",
              "    }\n",
              "\n",
              "    .dataframe thead th {\n",
              "        text-align: right;\n",
              "    }\n",
              "</style>\n",
              "<table border=\"1\" class=\"dataframe\">\n",
              "  <thead>\n",
              "    <tr style=\"text-align: right;\">\n",
              "      <th></th>\n",
              "      <th>Feature Name</th>\n",
              "      <th>Alpha = 0.000000</th>\n",
              "      <th>Alpha = 0.000100</th>\n",
              "      <th>Alpha = 0.003800</th>\n",
              "      <th>Alpha = 0.500000</th>\n",
              "      <th>Alpha = 10.000000</th>\n",
              "    </tr>\n",
              "  </thead>\n",
              "  <tbody>\n",
              "    <tr>\n",
              "      <th>0</th>\n",
              "      <td>CRIM</td>\n",
              "      <td>-0.898257</td>\n",
              "      <td>-0.897981</td>\n",
              "      <td>-0.887763</td>\n",
              "      <td>-0.115265</td>\n",
              "      <td>-0.0</td>\n",
              "    </tr>\n",
              "    <tr>\n",
              "      <th>1</th>\n",
              "      <td>ZN</td>\n",
              "      <td>1.091980</td>\n",
              "      <td>1.091491</td>\n",
              "      <td>1.073451</td>\n",
              "      <td>0.000000</td>\n",
              "      <td>0.0</td>\n",
              "    </tr>\n",
              "    <tr>\n",
              "      <th>2</th>\n",
              "      <td>INDUS</td>\n",
              "      <td>0.122668</td>\n",
              "      <td>0.121718</td>\n",
              "      <td>0.086426</td>\n",
              "      <td>-0.000000</td>\n",
              "      <td>-0.0</td>\n",
              "    </tr>\n",
              "    <tr>\n",
              "      <th>3</th>\n",
              "      <td>CHAS</td>\n",
              "      <td>0.685619</td>\n",
              "      <td>0.685651</td>\n",
              "      <td>0.686856</td>\n",
              "      <td>0.397079</td>\n",
              "      <td>0.0</td>\n",
              "    </tr>\n",
              "    <tr>\n",
              "      <th>4</th>\n",
              "      <td>NOX</td>\n",
              "      <td>-2.055114</td>\n",
              "      <td>-2.054270</td>\n",
              "      <td>-2.023034</td>\n",
              "      <td>-0.000000</td>\n",
              "      <td>-0.0</td>\n",
              "    </tr>\n",
              "    <tr>\n",
              "      <th>5</th>\n",
              "      <td>RM</td>\n",
              "      <td>2.644826</td>\n",
              "      <td>2.645008</td>\n",
              "      <td>2.651680</td>\n",
              "      <td>2.974259</td>\n",
              "      <td>0.0</td>\n",
              "    </tr>\n",
              "    <tr>\n",
              "      <th>6</th>\n",
              "      <td>AGE</td>\n",
              "      <td>0.051205</td>\n",
              "      <td>0.050734</td>\n",
              "      <td>0.033393</td>\n",
              "      <td>-0.000000</td>\n",
              "      <td>-0.0</td>\n",
              "    </tr>\n",
              "    <tr>\n",
              "      <th>7</th>\n",
              "      <td>DIS</td>\n",
              "      <td>-3.098126</td>\n",
              "      <td>-3.097765</td>\n",
              "      <td>-3.084492</td>\n",
              "      <td>-0.170569</td>\n",
              "      <td>0.0</td>\n",
              "    </tr>\n",
              "    <tr>\n",
              "      <th>8</th>\n",
              "      <td>RAD</td>\n",
              "      <td>2.619749</td>\n",
              "      <td>2.617925</td>\n",
              "      <td>2.550420</td>\n",
              "      <td>-0.000000</td>\n",
              "      <td>-0.0</td>\n",
              "    </tr>\n",
              "    <tr>\n",
              "      <th>9</th>\n",
              "      <td>TAX</td>\n",
              "      <td>-2.062245</td>\n",
              "      <td>-2.060455</td>\n",
              "      <td>-1.994175</td>\n",
              "      <td>-0.000000</td>\n",
              "      <td>-0.0</td>\n",
              "    </tr>\n",
              "    <tr>\n",
              "      <th>10</th>\n",
              "      <td>PTRATIO</td>\n",
              "      <td>-2.081917</td>\n",
              "      <td>-2.081658</td>\n",
              "      <td>-2.072058</td>\n",
              "      <td>-1.598449</td>\n",
              "      <td>-0.0</td>\n",
              "    </tr>\n",
              "    <tr>\n",
              "      <th>11</th>\n",
              "      <td>B</td>\n",
              "      <td>0.838957</td>\n",
              "      <td>0.838880</td>\n",
              "      <td>0.836035</td>\n",
              "      <td>0.543139</td>\n",
              "      <td>0.0</td>\n",
              "    </tr>\n",
              "    <tr>\n",
              "      <th>12</th>\n",
              "      <td>LSTAT</td>\n",
              "      <td>-3.721596</td>\n",
              "      <td>-3.721386</td>\n",
              "      <td>-3.713636</td>\n",
              "      <td>-3.666144</td>\n",
              "      <td>-0.0</td>\n",
              "    </tr>\n",
              "    <tr>\n",
              "      <th>13</th>\n",
              "      <td>Noise_1</td>\n",
              "      <td>0.177804</td>\n",
              "      <td>0.177670</td>\n",
              "      <td>0.172709</td>\n",
              "      <td>0.000000</td>\n",
              "      <td>0.0</td>\n",
              "    </tr>\n",
              "    <tr>\n",
              "      <th>14</th>\n",
              "      <td>Noise_2</td>\n",
              "      <td>0.263374</td>\n",
              "      <td>0.263309</td>\n",
              "      <td>0.260886</td>\n",
              "      <td>0.000000</td>\n",
              "      <td>0.0</td>\n",
              "    </tr>\n",
              "    <tr>\n",
              "      <th>15</th>\n",
              "      <td>Noise_3</td>\n",
              "      <td>0.044678</td>\n",
              "      <td>0.044565</td>\n",
              "      <td>0.040379</td>\n",
              "      <td>0.000000</td>\n",
              "      <td>-0.0</td>\n",
              "    </tr>\n",
              "    <tr>\n",
              "      <th>16</th>\n",
              "      <td>Noise_4</td>\n",
              "      <td>-0.163539</td>\n",
              "      <td>-0.163510</td>\n",
              "      <td>-0.162463</td>\n",
              "      <td>-0.000000</td>\n",
              "      <td>-0.0</td>\n",
              "    </tr>\n",
              "    <tr>\n",
              "      <th>17</th>\n",
              "      <td>Noise_5</td>\n",
              "      <td>0.227584</td>\n",
              "      <td>0.227455</td>\n",
              "      <td>0.222674</td>\n",
              "      <td>0.000000</td>\n",
              "      <td>0.0</td>\n",
              "    </tr>\n",
              "  </tbody>\n",
              "</table>\n",
              "</div>"
            ],
            "text/plain": [
              "   Feature Name  Alpha = 0.000000  ...  Alpha = 0.500000  Alpha = 10.000000\n",
              "0          CRIM         -0.898257  ...         -0.115265               -0.0\n",
              "1            ZN          1.091980  ...          0.000000                0.0\n",
              "2         INDUS          0.122668  ...         -0.000000               -0.0\n",
              "3          CHAS          0.685619  ...          0.397079                0.0\n",
              "4           NOX         -2.055114  ...         -0.000000               -0.0\n",
              "5            RM          2.644826  ...          2.974259                0.0\n",
              "6           AGE          0.051205  ...         -0.000000               -0.0\n",
              "7           DIS         -3.098126  ...         -0.170569                0.0\n",
              "8           RAD          2.619749  ...         -0.000000               -0.0\n",
              "9           TAX         -2.062245  ...         -0.000000               -0.0\n",
              "10      PTRATIO         -2.081917  ...         -1.598449               -0.0\n",
              "11            B          0.838957  ...          0.543139                0.0\n",
              "12        LSTAT         -3.721596  ...         -3.666144               -0.0\n",
              "13      Noise_1          0.177804  ...          0.000000                0.0\n",
              "14      Noise_2          0.263374  ...          0.000000                0.0\n",
              "15      Noise_3          0.044678  ...          0.000000               -0.0\n",
              "16      Noise_4         -0.163539  ...         -0.000000               -0.0\n",
              "17      Noise_5          0.227584  ...          0.000000                0.0\n",
              "\n",
              "[18 rows x 6 columns]"
            ]
          },
          "metadata": {
            "tags": []
          },
          "execution_count": 21
        }
      ]
    },
    {
      "cell_type": "code",
      "metadata": {
        "id": "B9iMJpLBP5eT",
        "colab": {
          "base_uri": "https://localhost:8080/"
        },
        "outputId": "781e835a-7f2e-4d5f-d38f-a00a4866c8c2"
      },
      "source": [
        "from sklearn.linear_model import RidgeCV\r\n",
        "reg = RidgeCV(alphas = [.00001, .5, 10]).fit(X_train, y_train)\r\n",
        "reg.alpha_"
      ],
      "execution_count": 19,
      "outputs": [
        {
          "output_type": "execute_result",
          "data": {
            "text/plain": [
              "10.0"
            ]
          },
          "metadata": {
            "tags": []
          },
          "execution_count": 19
        }
      ]
    }
  ]
}